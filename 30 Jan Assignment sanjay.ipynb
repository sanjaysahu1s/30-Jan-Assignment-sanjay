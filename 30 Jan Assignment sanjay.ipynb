{
 "cells": [
  {
   "cell_type": "markdown",
   "id": "bb032138-c18d-42a0-b822-9a2284a90c00",
   "metadata": {},
   "source": [
    "Que. 1) Write a program to accept percentage from the user and display the grade according to the following \n",
    "criteria: \n",
    "Marks \n",
    "Grade \n",
    ">90 \n",
    "A \n",
    "\n",
    "\n",
    ">80 and <=90 \n",
    "B \n",
    "\n",
    "\n",
    ">=60 and <=80 \n",
    "C \n",
    "\n",
    "\n",
    "below 60 \n",
    "D \n"
   ]
  },
  {
   "cell_type": "code",
   "execution_count": 60,
   "id": "53be190e-4263-412a-a674-779e90383cd7",
   "metadata": {},
   "outputs": [
    {
     "name": "stdin",
     "output_type": "stream",
     "text": [
      "Please enter your % to know your Grade:  91\n"
     ]
    },
    {
     "name": "stdout",
     "output_type": "stream",
     "text": [
      "A\n"
     ]
    }
   ],
   "source": [
    "#Ans\n",
    "\n",
    "i = float(input(\"Please enter your % to know your Grade: \"))\n",
    "\n",
    "if i > 90:\n",
    "   print(\"A\")\n",
    "elif i > 80 :\n",
    "   print(\"B\")\n",
    "elif i >= 60 :\n",
    "   print(\"C\")\n",
    "\n",
    "else: \n",
    "    print (\"D\")"
   ]
  },
  {
   "cell_type": "markdown",
   "id": "45df5eb7-a98d-4392-b7a1-151ecbd77b65",
   "metadata": {},
   "source": [
    "               -----------------------------------------------------------------------"
   ]
  },
  {
   "cell_type": "markdown",
   "id": "75651082-347a-46ab-8914-ef5ac6adcbaf",
   "metadata": {},
   "source": [
    "Que. 2) Write a program to accept the cost price of a bike and display the road tax to be paid according to the \n",
    "following criteria: \n",
    "\n",
    "\n",
    "Tax \n",
    "15% \n",
    "10% \n",
    "5% \n",
    "\n",
    "\n",
    "\n",
    "Cost Price(in Rs) \n",
    ">100000 \n",
    "50000 and <= 100000 \n",
    "<= 50000 \n"
   ]
  },
  {
   "cell_type": "code",
   "execution_count": 15,
   "id": "6dfb6af6-fa84-4a58-960e-f3828a650349",
   "metadata": {},
   "outputs": [
    {
     "name": "stdin",
     "output_type": "stream",
     "text": [
      "Enter the cost price of the bike :  100001\n"
     ]
    },
    {
     "name": "stdout",
     "output_type": "stream",
     "text": [
      "The road tax to be paid is: Rs 15000.15\n"
     ]
    }
   ],
   "source": [
    "#Ans\n",
    "\n",
    "i = float(input(\"Enter the cost price of the bike : \"))\n",
    "\n",
    "if i > 100000:\n",
    "    road_tax = i * 0.15\n",
    "elif i > 50000:\n",
    "    road_tax = i * 0.10\n",
    "else:\n",
    "    road_tax = i * 0.05\n",
    "\n",
    "print(f\"The road tax to be paid is: Rs {road_tax :.2f}\")\n",
    "\n",
    "\n"
   ]
  },
  {
   "cell_type": "markdown",
   "id": "4cf2f417-74c2-42b6-a028-fc06fc3ccfda",
   "metadata": {},
   "source": [
    "               -----------------------------------------------------------------------"
   ]
  },
  {
   "cell_type": "markdown",
   "id": "5797e65a-7ec7-45a4-9069-4b57585f8738",
   "metadata": {},
   "source": [
    "Que.3) Accept any city from the user and display monuments of that city. \n",
    "City \n",
    "Delhi \n",
    "Agra \n",
    "Jaipur \n",
    "\n",
    "\n",
    "Monument \n",
    "Red Fort \n",
    "Taj Mahal \n",
    "Jal Mahal \n"
   ]
  },
  {
   "cell_type": "code",
   "execution_count": 47,
   "id": "b3077b7e-8be2-44c4-9456-f1ffc41653e3",
   "metadata": {},
   "outputs": [
    {
     "name": "stdin",
     "output_type": "stream",
     "text": [
      "Enter a city:  Delhi\n"
     ]
    },
    {
     "name": "stdout",
     "output_type": "stream",
     "text": [
      "The monument in Delhi is: Red Fort\n"
     ]
    }
   ],
   "source": [
    "#Ans\n",
    "\n",
    "\n",
    "city = input(\"Enter a city: \")\n",
    "\n",
    "if city == \"Delhi\":\n",
    "    monument = \"Red Fort\"\n",
    "elif city == \"Agra\":\n",
    "    monument = \"Taj Mahal\"\n",
    "elif city == \"Jaipur\":\n",
    "    monument = \"Jal Mahal\"\n",
    "else:\n",
    "    monument = \"Sorry, no monuments found for the this city.\"\n",
    "\n",
    "print(f\"The monument in {city} is: {monument}\")\n"
   ]
  },
  {
   "cell_type": "code",
   "execution_count": null,
   "id": "8fb76383-6f90-4a77-b91e-c6da649ca1cd",
   "metadata": {},
   "outputs": [],
   "source": []
  },
  {
   "cell_type": "code",
   "execution_count": 48,
   "id": "65b79ce3-9553-458d-af95-ccc504d4e7a5",
   "metadata": {},
   "outputs": [
    {
     "name": "stdin",
     "output_type": "stream",
     "text": [
      "Enter a city:  dElhi\n"
     ]
    },
    {
     "name": "stdout",
     "output_type": "stream",
     "text": [
      "The monument in dElhi is: Red Fort\n"
     ]
    }
   ],
   "source": [
    "#2nd example if input is lower and uppercase\n",
    "\n",
    "city = input(\"Enter a city: \")\n",
    "\n",
    "if city.lower() == \"delhi\":\n",
    "    monument = \"Red Fort\"\n",
    "elif city.lower() == \"agra\":\n",
    "    monument = \"Taj Mahal\"\n",
    "elif city.lower() == \"jaipur\":\n",
    "    monument = \"Jal Mahal\"\n",
    "else:\n",
    "    monument = \"Sorry, no monuments found for the this city.\"\n",
    "\n",
    "print(f\"The monument in {city} is: {monument}\")\n"
   ]
  },
  {
   "cell_type": "markdown",
   "id": "5f4dafbf-b4cb-45c6-ae54-97366e3bc1d2",
   "metadata": {},
   "source": [
    "               -----------------------------------------------------------------------"
   ]
  },
  {
   "cell_type": "markdown",
   "id": "9b11c72d-418c-4895-9754-374388146d18",
   "metadata": {},
   "source": [
    "Que. 4) Check how many times a given number can be divided by 3 before it is less than or equal to 10. \n"
   ]
  },
  {
   "cell_type": "code",
   "execution_count": 54,
   "id": "3b3bab93-c0fd-4188-9f93-b81d11b807e1",
   "metadata": {},
   "outputs": [
    {
     "name": "stdin",
     "output_type": "stream",
     "text": [
      "Enter a number:  20\n"
     ]
    },
    {
     "name": "stdout",
     "output_type": "stream",
     "text": [
      "The number can be divided by 3 1 times before it is less than or equal to 10.\n"
     ]
    }
   ],
   "source": [
    "#Ans\n",
    "\n",
    "num = int(input(\"Enter a number: \"))\n",
    "\n",
    "count = 0\n",
    "while num > 10:\n",
    "    num /= 3\n",
    "    count += 1\n",
    "\n",
    "print(f\"The number can be divided by 3 {count} times before it is less than or equal to 10.\")\n",
    "\n",
    "\n"
   ]
  },
  {
   "cell_type": "markdown",
   "id": "d5b43903-faa5-4163-9f2a-b0a55645662f",
   "metadata": {},
   "source": [
    "               -----------------------------------------------------------------------"
   ]
  },
  {
   "cell_type": "markdown",
   "id": "7f481a4e-1125-4dc0-8ea6-b16823dbd62d",
   "metadata": {},
   "source": [
    "Que.5) Why and When to Use while Loop in Python give a detailed description with example \n"
   ]
  },
  {
   "cell_type": "markdown",
   "id": "4f761e53-b0c8-4fd8-8a5e-e3aa04af981f",
   "metadata": {},
   "source": [
    "#Ans.\n",
    "\n",
    "\n",
    "The 'while loop is a fundamental control structure in Python that allows you to repeatedly execute a block of code while a certain condition is true. The loop will continue to execute as long as the condition remains true, and will exit once the condition becomes false."
   ]
  },
  {
   "cell_type": "code",
   "execution_count": 59,
   "id": "f488c0a5-275a-4209-8bfa-e14cff27ba6f",
   "metadata": {},
   "outputs": [
    {
     "name": "stdin",
     "output_type": "stream",
     "text": [
      "Enter a number:  20\n"
     ]
    },
    {
     "name": "stdout",
     "output_type": "stream",
     "text": [
      "20 x 1 = 20\n",
      "20 x 2 = 40\n",
      "20 x 3 = 60\n",
      "20 x 4 = 80\n",
      "20 x 5 = 100\n",
      "20 x 6 = 120\n",
      "20 x 7 = 140\n",
      "20 x 8 = 160\n",
      "20 x 9 = 180\n",
      "20 x 10 = 200\n"
     ]
    }
   ],
   "source": [
    "#Example\n",
    "\n",
    "num = int(input(\"Enter a number: \"))\n",
    "i = 1\n",
    "\n",
    "while i <= 10:\n",
    "    print(f\"{num} x {i} = {num*i}\")\n",
    "    i += 1\n",
    "\n",
    "    "
   ]
  },
  {
   "cell_type": "markdown",
   "id": "e3c385b7-7652-464f-aad4-8cbb473415a6",
   "metadata": {},
   "source": [
    "               -----------------------------------------------------------------------"
   ]
  },
  {
   "cell_type": "markdown",
   "id": "30854a0c-1d3b-4c23-8e55-dbffea3a606b",
   "metadata": {},
   "source": [
    "Que.6) Use nested while loop to print 3 different pattern. "
   ]
  },
  {
   "cell_type": "code",
   "execution_count": null,
   "id": "8f85b199-7009-4670-beba-c709a4425d07",
   "metadata": {},
   "outputs": [],
   "source": [
    "#Ans.\n",
    "\n",
    "#Pattern 1:\n",
    "\n",
    "*\n",
    "**\n",
    "***\n",
    "****\n",
    "*****\n"
   ]
  },
  {
   "cell_type": "code",
   "execution_count": 63,
   "id": "f5232bff-380a-4364-880d-6c5891666a08",
   "metadata": {},
   "outputs": [
    {
     "name": "stdout",
     "output_type": "stream",
     "text": [
      "*\n",
      "**\n",
      "***\n",
      "****\n",
      "*****\n"
     ]
    }
   ],
   "source": [
    "i = 1\n",
    "\n",
    "while i <= 5:\n",
    "    j = 1\n",
    "    while j <= i:\n",
    "        print(\"*\", end=\"\")\n",
    "        j += 1\n",
    "    print()\n",
    "    i += 1\n"
   ]
  },
  {
   "cell_type": "code",
   "execution_count": null,
   "id": "e3b35959-be1a-466e-ba59-f67cc6b13fea",
   "metadata": {},
   "outputs": [],
   "source": [
    "\n",
    "#Pattern 2:\n",
    "\n",
    "    *\n",
    "   ***\n",
    "  *****\n",
    " *******\n",
    "*********\n"
   ]
  },
  {
   "cell_type": "code",
   "execution_count": 64,
   "id": "d31faeb4-842a-4f38-9ba1-36a8c1869c59",
   "metadata": {},
   "outputs": [
    {
     "name": "stdout",
     "output_type": "stream",
     "text": [
      "    *\n",
      "   ***\n",
      "  *****\n",
      " *******\n",
      "*********\n"
     ]
    }
   ],
   "source": [
    "i = 1\n",
    "\n",
    "while i <= 5:\n",
    "    j = 1\n",
    "    while j <= 5 - i:\n",
    "        print(\" \", end=\"\")\n",
    "        j += 1\n",
    "    k = 1\n",
    "    while k <= 2 * i - 1:\n",
    "        print(\"*\", end=\"\")\n",
    "        k += 1\n",
    "    print()\n",
    "    i += 1\n"
   ]
  },
  {
   "cell_type": "code",
   "execution_count": null,
   "id": "f4c61eca-f937-4f60-8e7b-583aad3ff269",
   "metadata": {},
   "outputs": [],
   "source": [
    "#Pattern 1:\n",
    "\n",
    "12345\n",
    "1234\n",
    "123\n",
    "12\n",
    "1\n"
   ]
  },
  {
   "cell_type": "code",
   "execution_count": 65,
   "id": "a767f8f1-213f-474f-bae0-11f979d9356b",
   "metadata": {},
   "outputs": [
    {
     "name": "stdout",
     "output_type": "stream",
     "text": [
      "12345\n",
      "1234\n",
      "123\n",
      "12\n",
      "1\n"
     ]
    }
   ],
   "source": [
    "i = 5\n",
    "\n",
    "while i >= 1:\n",
    "    j = 1\n",
    "    while j <= i:\n",
    "        print(j, end=\"\")\n",
    "        j += 1\n",
    "    print()\n",
    "    i -= 1\n"
   ]
  },
  {
   "cell_type": "markdown",
   "id": "4706c493-d5b2-42e1-b042-fc7f88e1ef7f",
   "metadata": {},
   "source": [
    "                      -----------------------------------------------------------------------"
   ]
  },
  {
   "cell_type": "markdown",
   "id": "e22318b7-35ed-4c2e-a3a8-0884abdc737c",
   "metadata": {},
   "source": [
    "Que.7) Reverse a while loop to display numbers from 10 to 1. \n"
   ]
  },
  {
   "cell_type": "code",
   "execution_count": 66,
   "id": "bee38fad-19d5-450b-9ae1-c6c155f1e725",
   "metadata": {},
   "outputs": [
    {
     "name": "stdout",
     "output_type": "stream",
     "text": [
      "10\n",
      "9\n",
      "8\n",
      "7\n",
      "6\n",
      "5\n",
      "4\n",
      "3\n",
      "2\n",
      "1\n"
     ]
    }
   ],
   "source": [
    "#Ans\n",
    "\n",
    "\n",
    "i = 10\n",
    "\n",
    "while i >= 1:\n",
    "    print(i)\n",
    "    i -= 1\n"
   ]
  },
  {
   "cell_type": "markdown",
   "id": "7f18ce10-1442-4591-a126-e70165703b1b",
   "metadata": {},
   "source": [
    "                      -----------------------------------------------------------------------"
   ]
  }
 ],
 "metadata": {
  "kernelspec": {
   "display_name": "Python 3 (ipykernel)",
   "language": "python",
   "name": "python3"
  },
  "language_info": {
   "codemirror_mode": {
    "name": "ipython",
    "version": 3
   },
   "file_extension": ".py",
   "mimetype": "text/x-python",
   "name": "python",
   "nbconvert_exporter": "python",
   "pygments_lexer": "ipython3",
   "version": "3.10.8"
  }
 },
 "nbformat": 4,
 "nbformat_minor": 5
}
